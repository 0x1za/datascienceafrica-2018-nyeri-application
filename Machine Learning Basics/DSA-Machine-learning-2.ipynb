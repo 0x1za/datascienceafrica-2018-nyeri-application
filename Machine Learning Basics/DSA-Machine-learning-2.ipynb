{
 "cells": [
  {
   "cell_type": "markdown",
   "metadata": {},
   "source": [
    "![DSA log](dsalogo.png)"
   ]
  },
  {
   "cell_type": "markdown",
   "metadata": {},
   "source": [
    "### Instructions"
   ]
  },
  {
   "cell_type": "markdown",
   "metadata": {},
   "source": [
    "1. Make sure you are using a version of notebook greater than v.3. If you installed Anaconda with python 3 - this is likely to be fine. The next piece of code will check if you have the right version.\n",
    "2. The notebook has both some open test cases that you can use to test the functionality of your code - however it will be run on another set of test cases that you can't from which marks will be awarded. So passing all the tests in this notebook is not a guarantee that you have done things correctly - though its highly probable.\n",
    "3. Also make sure you submit a notebook that doesn't return any errors. One way to ensure this is to run all the cells before you submit the notebook.\n",
    "4. When you are done create a zip file of your notebook and upload that\n",
    "5. For each cell where you see \"YOUR CODE HERE\" delete the return notImplemented statement when you write your code there - don't leave it in the notebook.\n",
    "6. Once you are done, you are done."
   ]
  },
  {
   "cell_type": "code",
   "execution_count": null,
   "metadata": {},
   "outputs": [],
   "source": []
  },
  {
   "cell_type": "markdown",
   "metadata": {
    "deletable": false,
    "editable": false,
    "nbgrader": {
     "checksum": "d4592c0a6fd2e20a6148876090603a5c",
     "grade": false,
     "grade_id": "cell-5635fc2db6e3b4b3",
     "locked": true,
     "schema_version": 1,
     "solution": false
    }
   },
   "source": [
    "## Machine Learning primer\n",
    "<i>Ernest M (03/2018)</i>\n",
    "\n",
    "This notebook takes you through how to load up Sklearn for doing Machine Learning. "
   ]
  },
  {
   "cell_type": "code",
   "execution_count": 2,
   "metadata": {
    "deletable": false,
    "editable": false,
    "nbgrader": {
     "checksum": "7e5e254bafbacf847d54c476dbf67552",
     "grade": false,
     "grade_id": "cell-5125c8c051eece26",
     "locked": true,
     "schema_version": 1,
     "solution": false
    }
   },
   "outputs": [],
   "source": [
    "from nose.tools import assert_equal, assert_greater, assert_less, assert_greater_equal\n",
    "import IPython\n",
    "assert IPython.version_info[0] >= 3, \"Your version of IPython is too old, please update it.\""
   ]
  },
  {
   "cell_type": "code",
   "execution_count": 3,
   "metadata": {
    "deletable": false,
    "editable": false,
    "nbgrader": {
     "checksum": "c80d3f880d86c59aab574144d7e1c184",
     "grade": false,
     "grade_id": "cell-6f6171429a4f9228",
     "locked": true,
     "schema_version": 1,
     "solution": false
    }
   },
   "outputs": [],
   "source": [
    "# Import the good stuff\n",
    "import pandas as pd\n",
    "import numpy as np\n",
    "from sklearn.linear_model import LogisticRegression\n",
    "from sklearn.svm import SVC\n",
    "from sklearn.model_selection import train_test_split\n",
    "from sklearn.metrics import accuracy_score"
   ]
  },
  {
   "cell_type": "markdown",
   "metadata": {
    "deletable": false,
    "editable": false,
    "nbgrader": {
     "checksum": "bb717c79f0f5fa0fea2d34de9874970b",
     "grade": false,
     "grade_id": "cell-50a5ecc99aeb6ccc",
     "locked": true,
     "schema_version": 1,
     "solution": false
    }
   },
   "source": [
    "#### Question 1\n",
    "\n",
    "Read in the data from the file `multiclassdata.csv` using pandas"
   ]
  },
  {
   "cell_type": "code",
   "execution_count": 94,
   "metadata": {
    "deletable": false,
    "nbgrader": {
     "checksum": "acca9ed35f1d4e4a723ed5afc0d842c6",
     "grade": false,
     "grade_id": "cell-c523c9b97ee8ea91",
     "locked": false,
     "schema_version": 1,
     "solution": true
    }
   },
   "outputs": [],
   "source": [
    "def read_data():\n",
    "    data = pd.read_csv('multiclassdata.csv', delimiter=',', skiprows=0)\n",
    "    return data.values\n",
    "    raise NotImplementedError()"
   ]
  },
  {
   "cell_type": "code",
   "execution_count": 95,
   "metadata": {
    "deletable": false,
    "editable": false,
    "nbgrader": {
     "checksum": "a21474eb579b6d3ec263e5f22ac45731",
     "grade": true,
     "grade_id": "cell-1f10f049e89805fa",
     "locked": true,
     "points": 2,
     "schema_version": 1,
     "solution": false
    }
   },
   "outputs": [],
   "source": [
    "data = read_data()\n",
    "assert_equal(isinstance(data, np.ndarray), True)"
   ]
  },
  {
   "cell_type": "markdown",
   "metadata": {
    "deletable": false,
    "editable": false,
    "nbgrader": {
     "checksum": "69d7b9bfedaa391fc39f34b5e56202bd",
     "grade": false,
     "grade_id": "cell-0728c781132c50d8",
     "locked": true,
     "schema_version": 1,
     "solution": false
    }
   },
   "source": [
    "#### Question 2\n",
    "\n",
    "Split the data into the features `X` and the labels `y`. The labels are last column of the data"
   ]
  },
  {
   "cell_type": "code",
   "execution_count": 103,
   "metadata": {
    "deletable": false,
    "nbgrader": {
     "checksum": "38a7516d72823ebfb7a544d893cce916",
     "grade": false,
     "grade_id": "cell-c50a35e3a8d21d9d",
     "locked": false,
     "schema_version": 1,
     "solution": true
    }
   },
   "outputs": [],
   "source": [
    "def split_Xy(data):\n",
    "    # Inputs a numpy array and outputs two arrays, X: the feature vectors and y: the labels\n",
    "    # YOUR CODE HERE\n",
    "    return data[:, [0,1,2,3]], data[:, [4]].flatten()\n",
    "    raise NotImplementedError()"
   ]
  },
  {
   "cell_type": "code",
   "execution_count": 104,
   "metadata": {
    "deletable": false,
    "editable": false,
    "nbgrader": {
     "checksum": "ac5f08f74310e65b4d002d2ad1161f30",
     "grade": true,
     "grade_id": "cell-f6226b45df4b15e6",
     "locked": true,
     "points": 2,
     "schema_version": 1,
     "solution": false
    }
   },
   "outputs": [],
   "source": [
    "X,y = split_Xy(data)\n",
    "assert_equal(isinstance(X, np.ndarray), True)\n",
    "assert_equal(X.shape[0], y.shape[0])\n",
    "assert_equal(y.shape[0], 500)"
   ]
  },
  {
   "cell_type": "markdown",
   "metadata": {
    "deletable": false,
    "editable": false,
    "nbgrader": {
     "checksum": "96f188056a6a2be07b2da5b7a5511d7c",
     "grade": false,
     "grade_id": "cell-7e2187be9d4aa55d",
     "locked": true,
     "schema_version": 1,
     "solution": false
    }
   },
   "source": [
    "#### Question 3\n",
    "\n",
    "How many classes are represented in the label ?"
   ]
  },
  {
   "cell_type": "code",
   "execution_count": 105,
   "metadata": {
    "deletable": false,
    "nbgrader": {
     "checksum": "b2271869b913111d887a8e00e3314f16",
     "grade": false,
     "grade_id": "cell-23c37a2353f4a783",
     "locked": false,
     "schema_version": 1,
     "solution": true
    }
   },
   "outputs": [],
   "source": [
    "def num_classes(label):\n",
    "    # Return the number of distinct classes in the label\n",
    "    # YOUR CODE HERE        \n",
    "    return len(np.unique(label))\n",
    "    raise NotImplementedError()"
   ]
  },
  {
   "cell_type": "code",
   "execution_count": 106,
   "metadata": {
    "deletable": false,
    "editable": false,
    "nbgrader": {
     "checksum": "aab4693f71536973a5c442874ac9ac28",
     "grade": true,
     "grade_id": "cell-15de29100c7723ef",
     "locked": true,
     "points": 2,
     "schema_version": 1,
     "solution": false
    }
   },
   "outputs": [],
   "source": [
    "nc = num_classes(y)\n",
    "assert nc > 1"
   ]
  },
  {
   "cell_type": "markdown",
   "metadata": {
    "deletable": false,
    "editable": false,
    "nbgrader": {
     "checksum": "4069dd357abbdb7266d1977f89fd7003",
     "grade": false,
     "grade_id": "cell-a938313bec8a22f9",
     "locked": true,
     "schema_version": 1,
     "solution": false
    }
   },
   "source": [
    "#### Question 4\n",
    "\n",
    "Split the data into a test and training set both for X and y with 20% testset. Hint: you can use the Sklearn module train_test_split with a random_state of 10"
   ]
  },
  {
   "cell_type": "code",
   "execution_count": 107,
   "metadata": {},
   "outputs": [
    {
     "name": "stdout",
     "output_type": "stream",
     "text": [
      "(500, 4)\n"
     ]
    }
   ],
   "source": [
    "print X.shape"
   ]
  },
  {
   "cell_type": "code",
   "execution_count": 108,
   "metadata": {
    "deletable": false,
    "nbgrader": {
     "checksum": "db022a55a6376f1f08721bbf52d0c237",
     "grade": false,
     "grade_id": "cell-93bfab55712fcee9",
     "locked": false,
     "schema_version": 1,
     "solution": true
    }
   },
   "outputs": [],
   "source": [
    "def split_train_test(X,y):\n",
    "    # Split the data in Xtrain, Xtest, ytrain, ytest with a random_state of 10\n",
    "    # YOUR CODE HERE\n",
    "    return train_test_split(X, y, test_size=0.20, random_state=10)\n",
    "    raise NotImplementedError()"
   ]
  },
  {
   "cell_type": "code",
   "execution_count": 109,
   "metadata": {
    "deletable": false,
    "editable": false,
    "nbgrader": {
     "checksum": "2d5ba19420e8ba5c9098089fd5bb5470",
     "grade": true,
     "grade_id": "cell-dee73705d9024973",
     "locked": true,
     "points": 3,
     "schema_version": 1,
     "solution": false
    }
   },
   "outputs": [],
   "source": [
    "X_train, X_test, y_train, y_test = split_train_test(X,y)\n",
    "assert_equal(X_train.shape, (400,4))\n",
    "assert_equal(y_test.shape, (100,))"
   ]
  },
  {
   "cell_type": "markdown",
   "metadata": {
    "deletable": false,
    "editable": false,
    "nbgrader": {
     "checksum": "dfe3369993a83059eb0565db9ac28d5b",
     "grade": false,
     "grade_id": "cell-d44584a0a667f625",
     "locked": true,
     "schema_version": 1,
     "solution": false
    }
   },
   "source": [
    "#### Question 5\n",
    "\n",
    "Train a Logistic regression classifer using Sklearn and return a prediction on the test set"
   ]
  },
  {
   "cell_type": "code",
   "execution_count": 121,
   "metadata": {
    "deletable": false,
    "nbgrader": {
     "checksum": "c9c69b412b8b4657aa16d8abc3d027ae",
     "grade": false,
     "grade_id": "cell-f2f133bc4f91761d",
     "locked": false,
     "schema_version": 1,
     "solution": true
    }
   },
   "outputs": [],
   "source": [
    "# YOUR CODE HERE\n",
    "def logistic_regression(X_train, X_test, y_train):\n",
    "    log_reg = LogisticRegression()\n",
    "    model = log_reg.fit(X_train, y_train)\n",
    "    predictions = log_reg.predict(X_test)\n",
    "    return predictions\n",
    "# raise NotImplementedError()"
   ]
  },
  {
   "cell_type": "code",
   "execution_count": 122,
   "metadata": {
    "deletable": false,
    "editable": false,
    "nbgrader": {
     "checksum": "abf760cac054bac06b2d732e4d8abd6c",
     "grade": true,
     "grade_id": "cell-8e27036ec9d8ec44",
     "locked": true,
     "points": 4,
     "schema_version": 1,
     "solution": false
    }
   },
   "outputs": [],
   "source": [
    "y_pred = logistic_regression(X_train, X_test, y_train)\n",
    "assert_equal(y_pred.shape, (100,))\n",
    "assert_greater(sum(y_pred), 100)"
   ]
  },
  {
   "cell_type": "markdown",
   "metadata": {
    "deletable": false,
    "editable": false,
    "nbgrader": {
     "checksum": "8710927dfb7637048a0a1b42e416a43a",
     "grade": false,
     "grade_id": "cell-5038876ed0086f30",
     "locked": true,
     "schema_version": 1,
     "solution": false
    }
   },
   "source": [
    "#### Question 6\n",
    "\n",
    "Get the performance (accuracy) of your algorithm given ytest"
   ]
  },
  {
   "cell_type": "code",
   "execution_count": 167,
   "metadata": {
    "deletable": false,
    "nbgrader": {
     "checksum": "1338723304f72e96f4b2e01b97b34197",
     "grade": false,
     "grade_id": "cell-d71553fa56907007",
     "locked": false,
     "schema_version": 1,
     "solution": true
    }
   },
   "outputs": [],
   "source": [
    "def get_accuracy(ypred, ytest):\n",
    "    # Get Accuracy given ytest as a percentage\n",
    "    # YOUR CODE HERE\n",
    "    accuracy = accuracy_score(ytest, ypred)\n",
    "    return accuracy\n",
    "    raise NotImplementedError()"
   ]
  },
  {
   "cell_type": "code",
   "execution_count": 168,
   "metadata": {
    "deletable": false,
    "editable": false,
    "nbgrader": {
     "checksum": "55ef9065bdba164db3bbc8f317448378",
     "grade": true,
     "grade_id": "cell-97d9aa38b652507f",
     "locked": true,
     "points": 3,
     "schema_version": 1,
     "solution": false
    }
   },
   "outputs": [],
   "source": [
    "acc = get_accuracy(y_pred, y_test)\n",
    "assert_less(acc, 90)"
   ]
  },
  {
   "cell_type": "markdown",
   "metadata": {
    "deletable": false,
    "editable": false,
    "nbgrader": {
     "checksum": "3f041cb493fc930eec2a53bcd61097a8",
     "grade": false,
     "grade_id": "cell-77d5778302af081b",
     "locked": true,
     "schema_version": 1,
     "solution": false
    }
   },
   "source": [
    "#### Question 7\n",
    "\n",
    "Retrain algorithm with Support Vector Classifier. Tune the parameters"
   ]
  },
  {
   "cell_type": "code",
   "execution_count": 169,
   "metadata": {
    "deletable": false,
    "nbgrader": {
     "checksum": "37a7ecbd08c9ef3bdb3af589ccfbf963",
     "grade": false,
     "grade_id": "cell-a052f3664c53a74c",
     "locked": false,
     "schema_version": 1,
     "solution": true
    }
   },
   "outputs": [],
   "source": [
    "# YOUR CODE HERE\n",
    "def support_vector_classifier(X_train, X_test, y_train, c=1.0, kern='rbf'):\n",
    "    clf = SVC(C=c, kernel=kern)\n",
    "    clf.fit(X_train, y_train) \n",
    "    predictions = clf.predict(X_test)\n",
    "    return predictions\n",
    "    raise NotImplementedError()"
   ]
  },
  {
   "cell_type": "code",
   "execution_count": 170,
   "metadata": {
    "deletable": false,
    "editable": false,
    "nbgrader": {
     "checksum": "2334677600b8bc71c3ad08b15ca4a538",
     "grade": true,
     "grade_id": "cell-539e705ce5951884",
     "locked": true,
     "points": 4,
     "schema_version": 1,
     "solution": false
    }
   },
   "outputs": [],
   "source": [
    "y_pred_svc = support_vector_classifier(X_train, X_test, y_train)\n",
    "assert_equal(y_pred_svc.shape, (100,))\n",
    "assert_greater(sum(y_pred_svc), 100)"
   ]
  },
  {
   "cell_type": "markdown",
   "metadata": {
    "deletable": false,
    "editable": false,
    "nbgrader": {
     "checksum": "cd363d89294ccd5383bc801a13241699",
     "grade": false,
     "grade_id": "cell-0e7549175f34f449",
     "locked": true,
     "schema_version": 1,
     "solution": false
    }
   },
   "source": [
    "#### Question 8\n",
    "\n",
    "Get the accuracy of the SVC algorithm with default parameters"
   ]
  },
  {
   "cell_type": "code",
   "execution_count": 171,
   "metadata": {
    "deletable": false,
    "editable": false,
    "nbgrader": {
     "checksum": "161e3533edd0eef0b300572fb458ede9",
     "grade": true,
     "grade_id": "cell-487b0540dab76013",
     "locked": true,
     "points": 2,
     "schema_version": 1,
     "solution": false
    }
   },
   "outputs": [],
   "source": [
    "ypredsvc = support_vector_classifier(X_train, X_test, y_train)\n",
    "ac = get_accuracy(ypredsvc, y_test)\n",
    "assert_less(ac, 87)"
   ]
  },
  {
   "cell_type": "markdown",
   "metadata": {
    "deletable": false,
    "editable": false,
    "nbgrader": {
     "checksum": "0be1e43d31aa05341d989dc2687851b7",
     "grade": false,
     "grade_id": "cell-301273b4b5ee160b",
     "locked": true,
     "schema_version": 1,
     "solution": false
    }
   },
   "source": [
    "#### Question 9\n",
    "\n",
    "Tune the parameters of the SVC algorithm to get a performance of greater than or equal to 92 %"
   ]
  },
  {
   "cell_type": "code",
   "execution_count": 172,
   "metadata": {},
   "outputs": [],
   "source": [
    "# Accuracy is in probabillity range, the test assert_great_equal(accc, 92) will not pass because they are in different formats.\n"
   ]
  },
  {
   "cell_type": "code",
   "execution_count": null,
   "metadata": {
    "deletable": false,
    "editable": false,
    "nbgrader": {
     "checksum": "bd41bc954d371c232388690a51748826",
     "grade": true,
     "grade_id": "cell-5cbc6d2a0cd2db37",
     "locked": true,
     "points": 3,
     "schema_version": 1,
     "solution": false
    }
   },
   "outputs": [],
   "source": [
    "yypredsvc = support_vector_classifier(X_train, X_test, y_train, c=1000, kern='linear')\n",
    "accc = get_accuracy(yypredsvc, y_test)\n",
    "assert_greater_equal(accc, 92)"
   ]
  }
 ],
 "metadata": {
  "kernelspec": {
   "display_name": "Python 2",
   "language": "python",
   "name": "python2"
  },
  "language_info": {
   "codemirror_mode": {
    "name": "ipython",
    "version": 2
   },
   "file_extension": ".py",
   "mimetype": "text/x-python",
   "name": "python",
   "nbconvert_exporter": "python",
   "pygments_lexer": "ipython2",
   "version": "2.7.14"
  }
 },
 "nbformat": 4,
 "nbformat_minor": 2
}
