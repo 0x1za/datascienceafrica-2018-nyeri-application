{
 "cells": [
  {
   "cell_type": "markdown",
   "metadata": {},
   "source": [
    "![DSA log](dsalogo.png)"
   ]
  },
  {
   "cell_type": "markdown",
   "metadata": {},
   "source": [
    "### Instructions"
   ]
  },
  {
   "cell_type": "markdown",
   "metadata": {},
   "source": [
    "1. Make sure you are using a version of notebook greater than v.3. If you installed Anaconda with python 3 - this is likely to be fine. The next piece of code will check if you have the right version.\n",
    "2. The notebook has both some open test cases that you can use to test the functionality of your code - however it will be run on another set of test cases that you can't from which marks will be awarded. So passing all the tests in this notebook is not a guarantee that you have done things correctly - though its highly probable.\n",
    "3. Also make sure you submit a notebook that doesn't return any errors. One way to ensure this is to run all the cells before you submit the notebook.\n",
    "4. When you are done create a zip file of your notebook and upload that\n",
    "5. For each cell where you see \"YOUR CODE HERE\" delete the return notImplemented statement when you write your code there - don't leave it in the notebook.\n",
    "6. Once you are done, you are done."
   ]
  },
  {
   "cell_type": "code",
   "execution_count": null,
   "metadata": {},
   "outputs": [],
   "source": []
  },
  {
   "cell_type": "markdown",
   "metadata": {
    "deletable": false,
    "editable": false,
    "nbgrader": {
     "checksum": "3edc7431457a86e5973dadc258f591b4",
     "grade": false,
     "grade_id": "cell-08229f2ccbad2fe3",
     "locked": true,
     "schema_version": 1,
     "solution": false
    }
   },
   "source": [
    "# DSA 2018 Nyeri Preparatory Notebook\n",
    "By Ciira Maina\n",
    "\n",
    "\n",
    "In preparation for DSA 2018 Nyeri, we would like potential participants to complete a number of exercises in probability, machine learning and programming to ensure that they have the necessary prerequisite knowledge to attend the summer school. You will be required to submit notebooks with solutions to these exercises during the application process.\n",
    "\n",
    "In this first exercise we will require you to download a dataset and perform computations on the data. These data are from a paper in 1966 by Cox and Lewis and report the time difference between nerve pulses on a nerve fibre. 799 observations are reported. These data are used for some examples in the text [\"All of Statistics\"](http://www.stat.cmu.edu/~larry/all-of-statistics/) by Larry Wasserman.\n",
    "\n",
    "The data are available [here](http://www.stat.cmu.edu/~larry/all-of-statistics/=data/nerve.dat)"
   ]
  },
  {
   "cell_type": "code",
   "execution_count": null,
   "metadata": {
    "deletable": false,
    "editable": false,
    "nbgrader": {
     "checksum": "eff7588a9a428f2382b0ffc533964368",
     "grade": false,
     "grade_id": "cell-c1b6e8c14e537b41",
     "locked": true,
     "schema_version": 1,
     "solution": false
    }
   },
   "outputs": [],
   "source": [
    "import matplotlib.pyplot as plt\n",
    "%matplotlib inline\n",
    "import urllib.request\n",
    "import numpy as np"
   ]
  },
  {
   "cell_type": "code",
   "execution_count": 10,
   "metadata": {},
   "outputs": [],
   "source": [
    "try: #python3\n",
    "    from urllib.request import urlopen\n",
    "except: #python2\n",
    "    import urllib3\n",
    "    http = urllib3.PoolManager()\n",
    "#     response = http.request('GET', url)\n",
    "import numpy as np"
   ]
  },
  {
   "cell_type": "markdown",
   "metadata": {
    "deletable": false,
    "editable": false,
    "nbgrader": {
     "checksum": "81879b91ee3b6cfc29abc88f2790545d",
     "grade": false,
     "grade_id": "cell-dc1b1bd0abef0f1f",
     "locked": true,
     "schema_version": 1,
     "solution": false
    }
   },
   "source": [
    "## Obtain the data\n",
    "\n",
    "Write code to obtain the data from the website above and store it in a one dimensional array of floating point numbers."
   ]
  },
  {
   "cell_type": "code",
   "execution_count": 19,
   "metadata": {
    "deletable": false,
    "nbgrader": {
     "checksum": "9abfb6a2faf52373d68b80555c4a98a3",
     "grade": false,
     "grade_id": "cell-6699c9abfcc43f90",
     "locked": false,
     "schema_version": 1,
     "solution": true
    }
   },
   "outputs": [],
   "source": [
    "nerve_data_url='http://www.stat.cmu.edu/~larry/all-of-statistics/=data/nerve.dat'\n",
    "def read_data(url):\n",
    "    # Read in data from url and return 1-D array\n",
    "    # YOUR CODE HERE\n",
    "    r = http.request('GET', url, preload_content=False)\n",
    "\n",
    "    with open('nerve.dat', 'wb') as out:\n",
    "        while True:\n",
    "            data = r.read()\n",
    "            if not data:\n",
    "                break\n",
    "            out.write(data)\n",
    "\n",
    "    r.release_conn()\n",
    "\n",
    "    # Read data\n",
    "    data_final = np.fromfile('nerve.dat',dtype=float, sep=\" \")\n",
    "    return data_final\n",
    "    raise NotImplementedError()"
   ]
  },
  {
   "cell_type": "code",
   "execution_count": 20,
   "metadata": {
    "deletable": false,
    "editable": false,
    "nbgrader": {
     "checksum": "92e5d2f58ad721b546000a56a10db39e",
     "grade": true,
     "grade_id": "cell-bf1a649ba9eade10",
     "locked": true,
     "points": 3,
     "schema_version": 1,
     "solution": false
    }
   },
   "outputs": [
    {
     "ename": "AssertionError",
     "evalue": "",
     "output_type": "error",
     "traceback": [
      "\u001b[0;31m---------------------------------------------------------------------------\u001b[0m",
      "\u001b[0;31mAssertionError\u001b[0m                            Traceback (most recent call last)",
      "\u001b[0;32m<ipython-input-20-e6a97f11477d>\u001b[0m in \u001b[0;36m<module>\u001b[0;34m()\u001b[0m\n\u001b[1;32m      1\u001b[0m \u001b[0mnerve_data\u001b[0m \u001b[0;34m=\u001b[0m \u001b[0mread_data\u001b[0m\u001b[0;34m(\u001b[0m\u001b[0mnerve_data_url\u001b[0m\u001b[0;34m)\u001b[0m\u001b[0;34m\u001b[0m\u001b[0m\n\u001b[0;32m----> 2\u001b[0;31m \u001b[0;32massert\u001b[0m \u001b[0mlen\u001b[0m\u001b[0;34m(\u001b[0m\u001b[0mnerve_data\u001b[0m\u001b[0;34m)\u001b[0m \u001b[0;34m==\u001b[0m \u001b[0;36m799\u001b[0m\u001b[0;34m\u001b[0m\u001b[0m\n\u001b[0m",
      "\u001b[0;31mAssertionError\u001b[0m: "
     ]
    }
   ],
   "source": [
    "nerve_data = read_data(nerve_data_url)\n",
    "assert len(nerve_data) == 799"
   ]
  },
  {
   "cell_type": "markdown",
   "metadata": {
    "deletable": false,
    "editable": false,
    "nbgrader": {
     "checksum": "cfc2f7e381cefdfc21e9d2b131f8529a",
     "grade": false,
     "grade_id": "cell-0ae5f2d6f37f7e4d",
     "locked": true,
     "schema_version": 1,
     "solution": false
    }
   },
   "source": [
    "## Preliminary Visualisation\n",
    "\n",
    "Plot a histogram of the data. Ensure you label your axes."
   ]
  },
  {
   "cell_type": "code",
   "execution_count": null,
   "metadata": {
    "deletable": false,
    "nbgrader": {
     "checksum": "3ae87f5376b5aeb0bfdfa2b516c43ae9",
     "grade": false,
     "grade_id": "cell-34bf8c0bf8c812e8",
     "locked": false,
     "schema_version": 1,
     "solution": true
    }
   },
   "outputs": [],
   "source": [
    "# YOUR CODE HERE\n",
    "raise NotImplementedError()"
   ]
  },
  {
   "cell_type": "markdown",
   "metadata": {
    "deletable": false,
    "editable": false,
    "nbgrader": {
     "checksum": "28ee1bb49dc64ba32bb49264db0d9216",
     "grade": false,
     "grade_id": "cell-e556c90e63a828f9",
     "locked": true,
     "schema_version": 1,
     "solution": false
    }
   },
   "source": [
    "## Preliminary analysis\n",
    "\n",
    "The cumulative distribution function of a random variable $\\mathbf{X}$ is given by\n",
    "\n",
    "$\n",
    "\\begin{equation}\n",
    "F_X(x)=P(\\mathbf{X}\\leq x)\n",
    "\\end{equation}$\n",
    "\n",
    "If we obtain $n$ observations $X_1,\\ldots,X_n$ from this distribution, the empirical distibution function is given by\n",
    "\n",
    "$\n",
    "\\begin{equation}\n",
    "\\hat{F}_n(x)=\\frac{\\sum_{i=1}^n\\mathbf{I}(X_i\\leq x)}{n}\n",
    "\\end{equation}$\n",
    "\n",
    "where\n",
    "$\n",
    " \\begin{equation}\n",
    "       \\mathbf{I}(X_i\\leq x) = \n",
    "        \\begin{cases}\n",
    "            1 & \\text{if $X_i\\leq x $} \\\\\n",
    "            0 & \\text{if $X_i> x$} \n",
    "        \\end{cases}\n",
    "    \\end{equation}\n",
    "$\n",
    "* Plot the empirical distribution function of the nerve pulse data\n",
    "* Estimate the probability that the wait time between nerve pulses is less than $0.3$ - We will call this P1\n",
    "* Estimate the probability that the wait time between nerve pulses is between $0.1$ and $0.3$ - We will call this P2\n",
    "\n"
   ]
  },
  {
   "cell_type": "markdown",
   "metadata": {
    "deletable": false,
    "editable": false,
    "nbgrader": {
     "checksum": "dab0dc2cb32c8402b5007b121afb86fa",
     "grade": false,
     "grade_id": "cell-3415b0a848e78934",
     "locked": true,
     "schema_version": 1,
     "solution": false
    }
   },
   "source": [
    "Given a random variable X obtain the empirical distribution of a given set of data"
   ]
  },
  {
   "cell_type": "code",
   "execution_count": null,
   "metadata": {
    "deletable": false,
    "nbgrader": {
     "checksum": "e7a844c618a0722edc281e7d53f8a15b",
     "grade": false,
     "grade_id": "cell-041074baf6d80bbc",
     "locked": false,
     "schema_version": 1,
     "solution": true
    }
   },
   "outputs": [],
   "source": [
    "def cdf(X, data):\n",
    "    # Return a vector the size of X representing the CDF\n",
    "    # YOUR CODE HERE\n",
    "    raise NotImplementedError()"
   ]
  },
  {
   "cell_type": "markdown",
   "metadata": {
    "deletable": false,
    "editable": false,
    "nbgrader": {
     "checksum": "ae66b81909d183befc99fa83e5c9639b",
     "grade": false,
     "grade_id": "cell-ae7fea0da1028971",
     "locked": true,
     "schema_version": 1,
     "solution": false
    }
   },
   "source": [
    "Plot the empirical distribution function of the nerve pulse data"
   ]
  },
  {
   "cell_type": "code",
   "execution_count": null,
   "metadata": {
    "deletable": false,
    "nbgrader": {
     "checksum": "71e94c33fa4f15aa1d91e9159398667c",
     "grade": false,
     "grade_id": "cell-4eb76792e4d8a071",
     "locked": false,
     "schema_version": 1,
     "solution": true
    }
   },
   "outputs": [],
   "source": [
    "X=np.linspace(0,np.max(nerve_data),100)\n",
    "# YOUR CODE HERE\n",
    "raise NotImplementedError()"
   ]
  },
  {
   "cell_type": "markdown",
   "metadata": {
    "deletable": false,
    "editable": false,
    "nbgrader": {
     "checksum": "9df772e43b89a90275727401a6b2c836",
     "grade": false,
     "grade_id": "cell-dcc6e4afa8094ddf",
     "locked": true,
     "schema_version": 1,
     "solution": false
    }
   },
   "source": [
    "Estimate the probability that the wait time between nerve pulses is less than  0.3. Hint: refer to the previous fomula for the cummulative distribution"
   ]
  },
  {
   "cell_type": "code",
   "execution_count": null,
   "metadata": {
    "deletable": false,
    "nbgrader": {
     "checksum": "2114ffdf43ea29a7fa8220cfe737b481",
     "grade": false,
     "grade_id": "cell-2ce090508f3b8a10",
     "locked": false,
     "schema_version": 1,
     "solution": true
    }
   },
   "outputs": [],
   "source": [
    "def prob_x(x, data):\n",
    "    # YOUR CODE HERE\n",
    "    raise NotImplementedError()"
   ]
  },
  {
   "cell_type": "code",
   "execution_count": null,
   "metadata": {
    "deletable": false,
    "editable": false,
    "nbgrader": {
     "checksum": "deb8492e606dc9cac704a009a1f2a94f",
     "grade": true,
     "grade_id": "cell-646df070bb10c6f6",
     "locked": true,
     "points": 3,
     "schema_version": 1,
     "solution": false
    }
   },
   "outputs": [],
   "source": [
    "P1 = prob_x(0.3, nerve_data)\n",
    "assert abs(P1-0.760951188986) < 1e-6"
   ]
  },
  {
   "cell_type": "markdown",
   "metadata": {
    "deletable": false,
    "editable": false,
    "nbgrader": {
     "checksum": "efc2913e00202c0d6658f64bba4f605d",
     "grade": false,
     "grade_id": "cell-7054f5bbbd443251",
     "locked": true,
     "schema_version": 1,
     "solution": false
    }
   },
   "source": [
    "Estimate the probability that the wait time between nerve pulses is between  0.1 and  0.3"
   ]
  },
  {
   "cell_type": "code",
   "execution_count": null,
   "metadata": {
    "deletable": false,
    "nbgrader": {
     "checksum": "505ebde4b9f0109bf8dec52b5ce36664",
     "grade": false,
     "grade_id": "cell-4175a73c48134e54",
     "locked": false,
     "schema_version": 1,
     "solution": true
    }
   },
   "outputs": [],
   "source": [
    "def prob_xy(x,y,data):\n",
    "    # Return probability of wait time between x, and y\n",
    "    # YOUR CODE HERE\n",
    "    raise NotImplementedError()"
   ]
  },
  {
   "cell_type": "code",
   "execution_count": null,
   "metadata": {
    "deletable": false,
    "editable": false,
    "nbgrader": {
     "checksum": "b8c4e76751b0ea1ac312ddbbc7b65465",
     "grade": true,
     "grade_id": "cell-0d1390848b688c52",
     "locked": true,
     "points": 4,
     "schema_version": 1,
     "solution": false
    }
   },
   "outputs": [],
   "source": [
    "P2 = prob_xy(0.1,0.3,nerve_data)\n",
    "assert abs(P2-0.377972465582) < 1e-6"
   ]
  },
  {
   "cell_type": "markdown",
   "metadata": {
    "deletable": false,
    "editable": false,
    "nbgrader": {
     "checksum": "2e71971046e45947b620bd99ea70408b",
     "grade": false,
     "grade_id": "cell-f598480ed596f333",
     "locked": true,
     "schema_version": 1,
     "solution": false
    }
   },
   "source": [
    "## Estimating properties of the distribution\n",
    "\n",
    "We can estimate properties of the true distribution of the data $F_X(x)$ using the empirical distribution function $\\hat{F}_n(x)$. To do this we can use \"plug in\" estimators. Here we will estimate the mean, variance and skewness. The expressions for the \"plug in\" estimators for these quantities are\n",
    "* Mean: $\\hat{\\mu}=\\frac{1}{n}\\sum_{i=1}^nX_i$\n",
    "* Variance: $\\hat{\\sigma}^2=\\frac{1}{n}\\sum_{i=1}^n(X_i-\\hat{\\mu})^2$\n",
    "* Skewness: $\\hat{\\kappa}=\\frac{\\frac{1}{n}\\sum_{i=1}^n(X_i-\\hat{\\mu})^3}{\\hat{\\sigma}^3}$\n",
    "\n",
    "Compute the plug in estimators of the mean, variance and skewness for the nerve pulse wait time data."
   ]
  },
  {
   "cell_type": "code",
   "execution_count": null,
   "metadata": {
    "deletable": false,
    "nbgrader": {
     "checksum": "52ff6cb36ea31f034273b20f1a0c378b",
     "grade": false,
     "grade_id": "cell-46ef36c2f625f30b",
     "locked": false,
     "schema_version": 1,
     "solution": true
    }
   },
   "outputs": [],
   "source": [
    "def dist_properties(data):\n",
    "    # Return the mean, variance, skewness of the distribution\n",
    "    # YOUR CODE HERE\n",
    "    raise NotImplementedError()"
   ]
  },
  {
   "cell_type": "code",
   "execution_count": null,
   "metadata": {
    "deletable": false,
    "editable": false,
    "nbgrader": {
     "checksum": "ac11e5f0121c37345a1af7da3ccf2963",
     "grade": true,
     "grade_id": "cell-e2cfd9c13b9e8896",
     "locked": true,
     "points": 5,
     "schema_version": 1,
     "solution": false
    }
   },
   "outputs": [],
   "source": [
    "mu, var, kappa = dist_properties(nerve_data)\n",
    "assert np.round(mu,3) == 0.219\n",
    "assert np.round(var,3) == 0.044\n",
    "assert np.round(kappa,3) == 1.761"
   ]
  }
 ],
 "metadata": {
  "kernelspec": {
   "display_name": "Python 2",
   "language": "python",
   "name": "python2"
  },
  "language_info": {
   "codemirror_mode": {
    "name": "ipython",
    "version": 2
   },
   "file_extension": ".py",
   "mimetype": "text/x-python",
   "name": "python",
   "nbconvert_exporter": "python",
   "pygments_lexer": "ipython2",
   "version": "2.7.14"
  }
 },
 "nbformat": 4,
 "nbformat_minor": 2
}
