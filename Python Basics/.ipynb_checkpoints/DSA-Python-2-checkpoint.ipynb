{
 "cells": [
  {
   "cell_type": "markdown",
   "metadata": {},
   "source": [
    "![DSA log](dsalogo.png)"
   ]
  },
  {
   "cell_type": "markdown",
   "metadata": {},
   "source": [
    "### Instructions"
   ]
  },
  {
   "cell_type": "markdown",
   "metadata": {},
   "source": [
    "1. Make sure you are using a version of notebook greater than v.3. If you installed Anaconda with python 3 - this is likely to be fine. The next piece of code will check if you have the right version.\n",
    "2. The notebook has both some open test cases that you can use to test the functionality of your code - however it will be run on another set of test cases that you can't from which marks will be awarded. So passing all the tests in this notebook is not a guarantee that you have done things correctly - though its highly probable.\n",
    "3. Also make sure you submit a notebook that doesn't return any errors. One way to ensure this is to run all the cells before you submit the notebook.\n",
    "4. When you are done create a zip file of your notebook and upload that\n",
    "5. For each cell where you see \"YOUR CODE HERE\" delete the return notImplemented statement when you write your code there - don't leave it in the notebook.\n",
    "6. Once you are done, you are done."
   ]
  },
  {
   "cell_type": "code",
   "execution_count": null,
   "metadata": {},
   "outputs": [],
   "source": []
  },
  {
   "cell_type": "markdown",
   "metadata": {},
   "source": [
    "## Python ++\n",
    "<i>Ernest M (03/2018)</i>"
   ]
  },
  {
   "cell_type": "markdown",
   "metadata": {
    "deletable": false,
    "editable": false,
    "nbgrader": {
     "checksum": "24bf18a48f7c126a781421379ffc30ce",
     "grade": false,
     "grade_id": "cell-0455b3d5f3f550fa",
     "locked": true,
     "schema_version": 1,
     "solution": false
    }
   },
   "source": [
    "For this notebook we are going to cover some graph problems. We shall imagine a game of basketball or football. \n",
    "\n",
    "If we think of each of the players are a node in a graph, we can calculate the optimal number of people to mark each of the players. Lets assume that a play at one vertex can only mark another player if there is an edge between them. So from the example graph, a player at A can mark an opponent at A, B and C. A player at D can mark an opponent at C, i.e. each edge of the graph should be covered.\n",
    "\n",
    "![Graph](graph.png)\n",
    "\n",
    "Your goal is to provide a minimum number of players to mark all opponents represented by a graph. So for example one solution to this graph could be `[1,1,1,1]` which indicates you have players stationed at A,B,C,D marking all positions, a total of 4 players. However this would not be the most optimal. A solution like `[0,1,0,1]` may be a better solution because the two players at B and D represented by the 1's can mark all other positions comfortably. However again it may not be the most optimal (ie. the minimum deployment needed to mark all players. "
   ]
  },
  {
   "cell_type": "markdown",
   "metadata": {
    "deletable": false,
    "editable": false,
    "nbgrader": {
     "checksum": "1e8a582f0e0d03f7aefcf821e025fcdc",
     "grade": false,
     "grade_id": "cell-02473490a4e41300",
     "locked": true,
     "schema_version": 1,
     "solution": false
    }
   },
   "source": [
    "To solve this problem we shall require a function that takes a graph that represents the positions of all players on the football pitch and returns the most optimal marking strategy in the form `[1,0,X,X,...]` where the 1's represent vertice where you would place your player. We want every player of the oponent's side marked. \n",
    "\n",
    "We shall represent the graph as an adjacency matrix. For example the above graph of 4 nodes can be represented as a 4 X 4 matrix where the 1's represent an edge between two nodes.\n",
    "\n",
    "`[[0,1,1,0], \n",
    " [1,0,1,0], \n",
    " [1,1,0,1], \n",
    " [0,0,1,0]]`\n"
   ]
  },
  {
   "cell_type": "code",
   "execution_count": null,
   "metadata": {
    "deletable": false,
    "editable": false,
    "nbgrader": {
     "checksum": "41820bcc05dd5f7d4f10351b185f8b04",
     "grade": false,
     "grade_id": "cell-7300bd9142e59c06",
     "locked": true,
     "schema_version": 1,
     "solution": false
    }
   },
   "outputs": [],
   "source": [
    "import itertools\n",
    "import numpy as np"
   ]
  },
  {
   "cell_type": "code",
   "execution_count": null,
   "metadata": {
    "deletable": false,
    "editable": false,
    "nbgrader": {
     "checksum": "9eb926647a0b777d388daef8157a261d",
     "grade": false,
     "grade_id": "cell-5ce21b7058dc7f7c",
     "locked": true,
     "schema_version": 1,
     "solution": false
    }
   },
   "outputs": [],
   "source": [
    "# Graphs\n",
    "graph0 = [[0,1,1,0], [1,0,1,0], [1,1,0,1], [0,0,1,0]]\n",
    "graph1 = [[0,1,0,0,1],[1,0,1,0,0],[0,1,0,1,1],[0,0,1,0,0],[1,0,1,0,0]]\n",
    "graph2 = [[0,1,0,0,0,1],[1,0,1,0,0,0],[0,1,0,1,1,0],[0,0,1,0,1,0],[0,0,1,1,0,1],[1,0,0,0,1,0]]\n",
    "graph3 = [[0,1,0,0,0,1],[1,0,1,0,1,0],[0,1,0,1,0,0],[0,0,1,0,1,0],[0,1,0,1,0,1],[1,0,0,0,1,0]]"
   ]
  },
  {
   "cell_type": "markdown",
   "metadata": {
    "deletable": false,
    "editable": false,
    "nbgrader": {
     "checksum": "40f92162487f9f8caf52371a73193751",
     "grade": false,
     "grade_id": "cell-d92338ce3a9bb272",
     "locked": true,
     "schema_version": 1,
     "solution": false
    }
   },
   "source": [
    "#### Question 1\n",
    "\n",
    "To solve this problem we will have a function that returns True if a set of markings is a valid solution to a graph of players. \n",
    "\n",
    "E.g for the graph above: `valid_markings([1,1,1,1], graph) -> True`"
   ]
  },
  {
   "cell_type": "code",
   "execution_count": null,
   "metadata": {
    "deletable": false,
    "nbgrader": {
     "checksum": "05901ac644757f8b81af112c8c5cba7b",
     "grade": false,
     "grade_id": "cell-a69b11fe9df8f934",
     "locked": false,
     "schema_version": 1,
     "solution": true
    }
   },
   "outputs": [],
   "source": [
    "def valid_markings(solution, graph):\n",
    "    # Return True if the solution is valid for the graph\n",
    "    # YOUR CODE HERE\n",
    "    raise NotImplementedError()"
   ]
  },
  {
   "cell_type": "code",
   "execution_count": null,
   "metadata": {
    "deletable": false,
    "editable": false,
    "nbgrader": {
     "checksum": "47c5f3d39d9d7f9d5ac54195397ee902",
     "grade": true,
     "grade_id": "cell-35e24f7c7ad62832",
     "locked": true,
     "points": 6,
     "schema_version": 1,
     "solution": false
    }
   },
   "outputs": [],
   "source": [
    "assert valid_markings([1,0,1,0], graph1) == False\n",
    "assert valid_markings([1,1,1,1,1,1], graph3) == True\n",
    "assert valid_markings([1,0,1,0,1], graph1) == True"
   ]
  },
  {
   "cell_type": "code",
   "execution_count": null,
   "metadata": {
    "deletable": false,
    "editable": false,
    "nbgrader": {
     "checksum": "33116f8513461190c1a8bc3b6a1f9cff",
     "grade": true,
     "grade_id": "cell-47d9d6a3cd53ecfc",
     "locked": true,
     "points": 4,
     "schema_version": 1,
     "solution": false
    }
   },
   "outputs": [],
   "source": [
    "assert valid_markings([0,0,0,0,0], graph1) == False"
   ]
  },
  {
   "cell_type": "markdown",
   "metadata": {
    "deletable": false,
    "editable": false,
    "nbgrader": {
     "checksum": "96550611466768037f86122a0111047e",
     "grade": false,
     "grade_id": "cell-e251b7a388044c88",
     "locked": true,
     "schema_version": 1,
     "solution": false
    }
   },
   "source": [
    "#### Question 2\n",
    "\n",
    "Write a function that returns the most optimal marking solution for an input graph\n",
    "\n",
    "E.g for the graph above: `optimal_marking(graph) -> True`"
   ]
  },
  {
   "cell_type": "code",
   "execution_count": null,
   "metadata": {
    "deletable": false,
    "nbgrader": {
     "checksum": "aa3d1550d1555563742158a2a4f46058",
     "grade": false,
     "grade_id": "cell-a0b06326a204e25d",
     "locked": false,
     "schema_version": 1,
     "solution": true
    }
   },
   "outputs": [],
   "source": [
    "def optimal_markings(input_graph):\n",
    "    # YOUR CODE HERE\n",
    "    raise NotImplementedError()"
   ]
  },
  {
   "cell_type": "code",
   "execution_count": null,
   "metadata": {
    "deletable": false,
    "editable": false,
    "nbgrader": {
     "checksum": "dfe615162a66ba531d37745ee9bbe858",
     "grade": true,
     "grade_id": "cell-13bf8379e10d9713",
     "locked": true,
     "points": 6,
     "schema_version": 1,
     "solution": false
    }
   },
   "outputs": [],
   "source": [
    "assert optimal_markings(graph0) == (2, (0, 1, 1, 0))\n",
    "assert optimal_markings(graph1) == (2, (1, 0, 1, 0, 0))"
   ]
  },
  {
   "cell_type": "code",
   "execution_count": null,
   "metadata": {
    "deletable": false,
    "editable": false,
    "nbgrader": {
     "checksum": "6d5ccbbb64f2a72fb82aa31f41acb470",
     "grade": true,
     "grade_id": "cell-b2106a9ba59d73be",
     "locked": true,
     "points": 4,
     "schema_version": 1,
     "solution": false
    }
   },
   "outputs": [],
   "source": [
    "assert optimal_markings(graph1)[1][2] == 1"
   ]
  }
 ],
 "metadata": {
  "kernelspec": {
   "display_name": "Python 2",
   "language": "python",
   "name": "python2"
  },
  "language_info": {
   "codemirror_mode": {
    "name": "ipython",
    "version": 2
   },
   "file_extension": ".py",
   "mimetype": "text/x-python",
   "name": "python",
   "nbconvert_exporter": "python",
   "pygments_lexer": "ipython2",
   "version": "2.7.14"
  }
 },
 "nbformat": 4,
 "nbformat_minor": 2
}
