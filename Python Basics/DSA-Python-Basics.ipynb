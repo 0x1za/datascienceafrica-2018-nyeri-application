{
 "cells": [
  {
   "cell_type": "markdown",
   "metadata": {},
   "source": [
    "![DSA log](dsalogo.png)"
   ]
  },
  {
   "cell_type": "markdown",
   "metadata": {},
   "source": [
    "### Instructions"
   ]
  },
  {
   "cell_type": "markdown",
   "metadata": {},
   "source": [
    "1. Make sure you are using a version of notebook greater than v.3. If you installed Anaconda with python 3 - this is likely to be fine. The next piece of code will check if you have the right version.\n",
    "2. The notebook has both some open test cases that you can use to test the functionality of your code - however it will be run on another set of test cases that you can't from which marks will be awarded. So passing all the tests in this notebook is not a guarantee that you have done things correctly - though its highly probable.\n",
    "3. Also make sure you submit a notebook that doesn't return any errors. One way to ensure this is to run all the cells before you submit the notebook.\n",
    "4. When you are done create a zip file of your notebook and upload that\n",
    "5. For each cell where you see \"YOUR CODE HERE\" delete the return notImplemented statement when you write your code there - don't leave it in the notebook.\n",
    "6. Once you are done, you are done."
   ]
  },
  {
   "cell_type": "code",
   "execution_count": 2,
   "metadata": {},
   "outputs": [
    {
     "name": "stdout",
     "output_type": "stream",
     "text": [
      "Collecting nose\n",
      "  Downloading nose-1.3.7-py2-none-any.whl (154kB)\n",
      "\u001b[K    100% |████████████████████████████████| 163kB 217kB/s ta 0:00:01\n",
      "\u001b[?25hInstalling collected packages: nose\n",
      "Successfully installed nose-1.3.7\n",
      "\u001b[33mYou are using pip version 9.0.1, however version 9.0.3 is available.\n",
      "You should consider upgrading via the 'pip install --upgrade pip' command.\u001b[0m\n"
     ]
    }
   ],
   "source": []
  },
  {
   "cell_type": "markdown",
   "metadata": {},
   "source": [
    "## Python Basics\n",
    "<i>Ernest M (03/2018)</i>"
   ]
  },
  {
   "cell_type": "code",
   "execution_count": 3,
   "metadata": {
    "deletable": false,
    "editable": false,
    "nbgrader": {
     "checksum": "dbf02e17c20f5959f3df9fea4d76074f",
     "grade": false,
     "grade_id": "cell-1629775eb01654de",
     "locked": true,
     "schema_version": 1,
     "solution": false
    }
   },
   "outputs": [],
   "source": [
    "# Import some stuff that you will use in this notebook\n",
    "from nose.tools import assert_equal\n",
    "import numpy as np\n",
    "import IPython\n",
    "assert IPython.version_info[0] >= 3, \"Your version of IPython is too old, please update it.\""
   ]
  },
  {
   "cell_type": "markdown",
   "metadata": {
    "deletable": false,
    "editable": false,
    "nbgrader": {
     "checksum": "f33cdab5ccee2e0ee691230c9848dad0",
     "grade": false,
     "grade_id": "cell-21f50697ae4b9d19",
     "locked": true,
     "schema_version": 1,
     "solution": false
    }
   },
   "source": [
    "#### Question 1\n",
    "\n",
    "Complete the function to output a string which is the concatenation of the inputs to the function"
   ]
  },
  {
   "cell_type": "code",
   "execution_count": 9,
   "metadata": {
    "deletable": false,
    "nbgrader": {
     "checksum": "220cc702e23aa06ff434bd18afb35cc4",
     "grade": false,
     "grade_id": "cell-9f15cc32a701e305",
     "locked": false,
     "schema_version": 1,
     "solution": true
    }
   },
   "outputs": [],
   "source": [
    "def get_string(x,y):\n",
    "    return str(x) + str(y)\n",
    "    raise NotImplementedError()"
   ]
  },
  {
   "cell_type": "code",
   "execution_count": 10,
   "metadata": {
    "deletable": false,
    "editable": false,
    "nbgrader": {
     "checksum": "beabeefb96d120be129779fdb8092e70",
     "grade": true,
     "grade_id": "cell-bd1e1e426e1025f2",
     "locked": true,
     "points": 2,
     "schema_version": 1,
     "solution": false
    }
   },
   "outputs": [],
   "source": [
    "assert_equal(get_string(4,5), '45')\n",
    "assert_equal(get_string('hello','world'), 'helloworld')"
   ]
  },
  {
   "cell_type": "markdown",
   "metadata": {
    "deletable": false,
    "editable": false,
    "nbgrader": {
     "checksum": "3292a3afd9c36b42106fbf52ec15528a",
     "grade": false,
     "grade_id": "cell-8186b1045379766d",
     "locked": true,
     "schema_version": 1,
     "solution": false
    }
   },
   "source": [
    "#### Question 2\n",
    "\n",
    "Complete the function to output the value of $y$ given $x$ and $p$. Function definition is $y = 4 + 5x^p$ <br>\n",
    "**Condition:** If the $x$ is not positive the value of y should be 0"
   ]
  },
  {
   "cell_type": "code",
   "execution_count": 15,
   "metadata": {
    "deletable": false,
    "nbgrader": {
     "checksum": "108bb9bc2fca22ef6870d0981aae9c2e",
     "grade": false,
     "grade_id": "cell-aefc8e898976745e",
     "locked": false,
     "schema_version": 1,
     "solution": true
    }
   },
   "outputs": [],
   "source": [
    "def ypolynomial(x,p):\n",
    "    if x > 0:\n",
    "        x = x**p\n",
    "        y = 4 + 5*x\n",
    "    else: \n",
    "        y = 0\n",
    "    return y\n",
    "    raise NotImplementedError()"
   ]
  },
  {
   "cell_type": "code",
   "execution_count": 16,
   "metadata": {
    "deletable": false,
    "editable": false,
    "nbgrader": {
     "checksum": "b93dc8a7406d4aa6291bece1c7d8f71b",
     "grade": true,
     "grade_id": "cell-c8503fd6f87f54f1",
     "locked": true,
     "points": 3,
     "schema_version": 1,
     "solution": false
    }
   },
   "outputs": [],
   "source": [
    "assert_equal(ypolynomial(3,3), 139)\n",
    "assert_equal(ypolynomial(-2,3), 0)"
   ]
  },
  {
   "cell_type": "markdown",
   "metadata": {
    "deletable": false,
    "editable": false,
    "nbgrader": {
     "checksum": "c42de9f53e262c79ed1f74a17901c7d8",
     "grade": false,
     "grade_id": "cell-5626e74cab8f49fd",
     "locked": true,
     "schema_version": 1,
     "solution": false
    }
   },
   "source": [
    "#### Question 3\n",
    "\n",
    "Complete the function to return a list of numbers between 0 and a number $N$ that are perfectly divisible by $p$ (with out leaving a remainder). <br>\n",
    "**Hint**: $N$ should also be inclusive in the numbers being considered. If N is negative use N == 20"
   ]
  },
  {
   "cell_type": "code",
   "execution_count": 22,
   "metadata": {
    "deletable": false,
    "nbgrader": {
     "checksum": "5d19775dfbc9ac9eee717889ed150b06",
     "grade": false,
     "grade_id": "cell-d096967be6b68c1f",
     "locked": false,
     "schema_version": 1,
     "solution": true
    }
   },
   "outputs": [],
   "source": [
    "def divisibles(N, p):\n",
    "    result = []\n",
    "    if N < 0:\n",
    "        N=20\n",
    "    else:\n",
    "        pass\n",
    "    \n",
    "    i = 0\n",
    "    while i <= N:\n",
    "        if i%p == 0:\n",
    "            result.append(i)\n",
    "        else:\n",
    "            pass\n",
    "        i+=1\n",
    "    return result\n",
    "    raise NotImplementedError()"
   ]
  },
  {
   "cell_type": "code",
   "execution_count": 24,
   "metadata": {
    "deletable": false,
    "editable": false,
    "nbgrader": {
     "checksum": "e724d967344d5c395764c7ab6cfe4082",
     "grade": true,
     "grade_id": "cell-6cbc8b89f1bfbece",
     "locked": true,
     "points": 3,
     "schema_version": 1,
     "solution": false
    }
   },
   "outputs": [],
   "source": [
    "assert_equal(divisibles(10,2), [0,2,4,6,8,10])\n",
    "assert_equal(divisibles(-10,2), [0,2,4,6,8,10,12,14,16,18,20])"
   ]
  },
  {
   "cell_type": "code",
   "execution_count": 25,
   "metadata": {
    "deletable": false,
    "editable": false,
    "nbgrader": {
     "checksum": "dc388123993ceec53de89520a915e590",
     "grade": true,
     "grade_id": "cell-c3a48b75b885a567",
     "locked": true,
     "points": 3,
     "schema_version": 1,
     "solution": false
    }
   },
   "outputs": [],
   "source": [
    "assert_equal(divisibles(6,4), [0,4])"
   ]
  },
  {
   "cell_type": "markdown",
   "metadata": {
    "deletable": false,
    "editable": false,
    "nbgrader": {
     "checksum": "f617eb107906b7e09c58fa5a52626329",
     "grade": false,
     "grade_id": "cell-fa484b8669ab1911",
     "locked": true,
     "schema_version": 1,
     "solution": false
    }
   },
   "source": [
    "#### Question 4\n",
    "Re-do Question 3, but in this case instead of evaluating numbers starting from 0, let them start from $s$. Complete the function below where $s$ is the start of the numbers ending at $N$ inclusive."
   ]
  },
  {
   "cell_type": "code",
   "execution_count": 26,
   "metadata": {
    "deletable": false,
    "nbgrader": {
     "checksum": "dda4c7ed338690d3588931d2293e35cc",
     "grade": false,
     "grade_id": "cell-58166f2ffb8d4331",
     "locked": false,
     "schema_version": 1,
     "solution": true
    }
   },
   "outputs": [],
   "source": [
    "def divisibles2(s, N, p):\n",
    "    result = []\n",
    "    if N < 0:\n",
    "        N=20\n",
    "    else:\n",
    "        pass\n",
    "    \n",
    "    i = s\n",
    "    while i <= N:\n",
    "        if i%p == 0:\n",
    "            result.append(i)\n",
    "        else:\n",
    "            pass\n",
    "        i+=1\n",
    "    return result\n",
    "    raise NotImplementedError()"
   ]
  },
  {
   "cell_type": "code",
   "execution_count": 27,
   "metadata": {
    "deletable": false,
    "editable": false,
    "nbgrader": {
     "checksum": "46bf1b3ae88fd2a5b0e107c19922b345",
     "grade": true,
     "grade_id": "cell-a517c73c87571847",
     "locked": true,
     "points": 3,
     "schema_version": 1,
     "solution": false
    }
   },
   "outputs": [],
   "source": [
    "assert_equal(divisibles2(0,10,2), [0,2,4,6,8,10])\n",
    "assert_equal(divisibles2(2,-10,2), [2,4,6,8,10,12,14,16,18,20])"
   ]
  },
  {
   "cell_type": "code",
   "execution_count": 28,
   "metadata": {
    "deletable": false,
    "editable": false,
    "nbgrader": {
     "checksum": "16c2bb2756f5c8d44d73479c4a70f529",
     "grade": true,
     "grade_id": "cell-025d1639d2eff09f",
     "locked": true,
     "points": 4,
     "schema_version": 1,
     "solution": false
    }
   },
   "outputs": [],
   "source": [
    "assert_equal(divisibles2(4,5,2), [4])"
   ]
  },
  {
   "cell_type": "markdown",
   "metadata": {
    "deletable": false,
    "editable": false,
    "nbgrader": {
     "checksum": "795d5b551e8cbfa5aca4491e23857742",
     "grade": false,
     "grade_id": "cell-c9e8ba4b8bc90a8b",
     "locked": true,
     "schema_version": 1,
     "solution": false
    }
   },
   "source": [
    "#### Question 5\n",
    "\n",
    "Complete the code to return a list of the first $N$ numbers that are divisible by 5,7 and 11"
   ]
  },
  {
   "cell_type": "code",
   "execution_count": 35,
   "metadata": {
    "deletable": false,
    "nbgrader": {
     "checksum": "5337395f84407ab4f81e0a3d4ce60b8f",
     "grade": false,
     "grade_id": "cell-33dbd87e8be70627",
     "locked": false,
     "schema_version": 1,
     "solution": true
    }
   },
   "outputs": [],
   "source": [
    "def divisibo(N):\n",
    "    result = []\n",
    "    divs = [5, 7, 11]\n",
    "    start = divs[2]\n",
    "    \n",
    "    while(len(result) < N):\n",
    "        if start%11 == 0:\n",
    "            if start%7 == 0:\n",
    "                if start%5 == 0:\n",
    "                    result.append(start)\n",
    "        start+=1\n",
    "    return result\n",
    "    raise NotImplementedError()"
   ]
  },
  {
   "cell_type": "code",
   "execution_count": 36,
   "metadata": {
    "deletable": false,
    "editable": false,
    "nbgrader": {
     "checksum": "1faf2782e4b3ee52f1405d82f54781ca",
     "grade": true,
     "grade_id": "cell-1c7dd28aec0d15c8",
     "locked": true,
     "points": 4,
     "schema_version": 1,
     "solution": false
    }
   },
   "outputs": [],
   "source": [
    "assert_equal(divisibo(1), [385])\n",
    "assert_equal(divisibo(2), [385, 770])"
   ]
  },
  {
   "cell_type": "code",
   "execution_count": 37,
   "metadata": {
    "deletable": false,
    "editable": false,
    "nbgrader": {
     "checksum": "639fac1f5b0a334abe077263b1ad53b9",
     "grade": true,
     "grade_id": "cell-e7b3abc2fa705436",
     "locked": true,
     "points": 5,
     "schema_version": 1,
     "solution": false
    }
   },
   "outputs": [],
   "source": [
    "assert_equal(divisibo(4), [385, 770, 1155, 1540])"
   ]
  },
  {
   "cell_type": "code",
   "execution_count": 38,
   "metadata": {},
   "outputs": [
    {
     "data": {
      "text/plain": [
       "[385, 770, 1155, 1540, 1925, 2310, 2695, 3080]"
      ]
     },
     "execution_count": 38,
     "metadata": {},
     "output_type": "execute_result"
    }
   ],
   "source": [
    "divisibo(8)"
   ]
  },
  {
   "cell_type": "markdown",
   "metadata": {
    "deletable": false,
    "editable": false,
    "nbgrader": {
     "checksum": "27e101458a586e2dca555c2133176b43",
     "grade": false,
     "grade_id": "cell-756f528e0acc2000",
     "locked": true,
     "schema_version": 1,
     "solution": false
    }
   },
   "source": [
    "#### Question 6\n",
    "\n",
    "Complete the function to output all primes up to the number $n$"
   ]
  },
  {
   "cell_type": "code",
   "execution_count": 85,
   "metadata": {
    "deletable": false,
    "nbgrader": {
     "checksum": "c271cfc44f923665c8181cdadfd48e1d",
     "grade": false,
     "grade_id": "cell-d1ceaad5daa87eaa",
     "locked": false,
     "schema_version": 1,
     "solution": true
    }
   },
   "outputs": [],
   "source": [
    "def primes_upto(N):\n",
    "    result = []\n",
    "    if N > 1:\n",
    "        result.append(2)\n",
    "        i = 2\n",
    "        while(i <= N):\n",
    "            if(i%2 != 0):\n",
    "                result.append(i)\n",
    "            i+=1\n",
    "        return result\n",
    "    else:\n",
    "        return result\n",
    "    raise NotImplementedError()"
   ]
  },
  {
   "cell_type": "code",
   "execution_count": 86,
   "metadata": {},
   "outputs": [
    {
     "data": {
      "text/plain": [
       "[2, 3]"
      ]
     },
     "execution_count": 86,
     "metadata": {},
     "output_type": "execute_result"
    }
   ],
   "source": [
    "primes_upto(3)"
   ]
  },
  {
   "cell_type": "code",
   "execution_count": 87,
   "metadata": {
    "deletable": false,
    "editable": false,
    "nbgrader": {
     "checksum": "e3dbafa43938cc8cd3d3b3cfa1321adf",
     "grade": true,
     "grade_id": "cell-233f36d9259b2c92",
     "locked": true,
     "points": 4,
     "schema_version": 1,
     "solution": false
    }
   },
   "outputs": [],
   "source": [
    "assert_equal(primes_upto(2), [2])\n",
    "assert_equal(primes_upto(3), [2,3])"
   ]
  },
  {
   "cell_type": "code",
   "execution_count": 88,
   "metadata": {
    "deletable": false,
    "editable": false,
    "nbgrader": {
     "checksum": "a9751c25d7dd4099a535f61abcef4907",
     "grade": true,
     "grade_id": "cell-b164a145610833fe",
     "locked": true,
     "points": 4,
     "schema_version": 1,
     "solution": false
    }
   },
   "outputs": [],
   "source": [
    "assert_equal(primes_upto(1), [])"
   ]
  },
  {
   "cell_type": "markdown",
   "metadata": {
    "deletable": false,
    "editable": false,
    "nbgrader": {
     "checksum": "eb11ec5c0a623446968cfaf5d278a8ec",
     "grade": false,
     "grade_id": "cell-4e16391429b6e932",
     "locked": true,
     "schema_version": 1,
     "solution": false
    }
   },
   "source": [
    "#### Question 7\n",
    "\n",
    "Complete the function to output the first $n$ primes"
   ]
  },
  {
   "cell_type": "code",
   "execution_count": 103,
   "metadata": {
    "deletable": false,
    "nbgrader": {
     "checksum": "e87671cd0fa09d946a39ac11b14487fa",
     "grade": false,
     "grade_id": "cell-8e763c5dfbdc7ace",
     "locked": false,
     "schema_version": 1,
     "solution": true
    }
   },
   "outputs": [],
   "source": [
    "def primes_first(N):\n",
    "    result = [2]\n",
    "    i = 2\n",
    "    while(len(result) < N):\n",
    "        if(i%2 != 0):\n",
    "            result.append(i)\n",
    "        i+=1\n",
    "    return result\n",
    "    raise NotImplementedError()"
   ]
  },
  {
   "cell_type": "code",
   "execution_count": 104,
   "metadata": {
    "deletable": false,
    "editable": false,
    "nbgrader": {
     "checksum": "4aa42d2394bca315956451ba3991aa06",
     "grade": true,
     "grade_id": "cell-28b5645753ea24e2",
     "locked": true,
     "points": 3,
     "schema_version": 1,
     "solution": false
    }
   },
   "outputs": [],
   "source": [
    "assert_equal(primes_first(1), [2])\n",
    "assert_equal(primes_first(2), [2,3])"
   ]
  },
  {
   "cell_type": "code",
   "execution_count": 105,
   "metadata": {
    "deletable": false,
    "editable": false,
    "nbgrader": {
     "checksum": "8fc5c47c965b327c91929fb8f83be048",
     "grade": true,
     "grade_id": "cell-e14b769f50493306",
     "locked": true,
     "points": 4,
     "schema_version": 1,
     "solution": false
    }
   },
   "outputs": [],
   "source": [
    "assert_equal(primes_first(4), [2, 3, 5, 7])"
   ]
  },
  {
   "cell_type": "markdown",
   "metadata": {
    "deletable": false,
    "editable": false,
    "nbgrader": {
     "checksum": "01f8aead47a2510ae5bd0cf5231f9b88",
     "grade": false,
     "grade_id": "cell-695f8c524ed27742",
     "locked": true,
     "schema_version": 1,
     "solution": false
    }
   },
   "source": [
    "#### Question 8\n",
    "\n",
    "Complete the function to output a sorted list of elements of sublists of a list (confusing right ?) <br>\n",
    "Example: given [[2,13,44], [6,7]] return [2,6,7,13,44]"
   ]
  },
  {
   "cell_type": "code",
   "execution_count": 110,
   "metadata": {
    "deletable": false,
    "nbgrader": {
     "checksum": "71921c8ddaead1ccdf15a154cec7ef59",
     "grade": false,
     "grade_id": "cell-a3301b8604a320f0",
     "locked": false,
     "schema_version": 1,
     "solution": true
    }
   },
   "outputs": [],
   "source": [
    "def flatten_list(superlist):\n",
    "    # Flatten array\n",
    "    sort = []\n",
    "    i = 0\n",
    "    while i < len(superlist):\n",
    "        z = 0\n",
    "        while(z < len(superlist[i])):\n",
    "            sort.append(superlist[i][z])\n",
    "            z+=1\n",
    "        i+=1\n",
    "    # Bubble sort\n",
    "    for p in range(len(sort)-1,0,-1):\n",
    "        for x in range(p):\n",
    "            if sort[x]>sort[x+1]:\n",
    "                tmp = sort[x]\n",
    "                sort[x] = sort[x+1]\n",
    "                sort[x+1] = tmp\n",
    "    return sort\n",
    "    raise NotImplementedError()"
   ]
  },
  {
   "cell_type": "code",
   "execution_count": 111,
   "metadata": {
    "deletable": false,
    "editable": false,
    "nbgrader": {
     "checksum": "ceff812d329dba9099648900cb71ebe4",
     "grade": true,
     "grade_id": "cell-9f7399759b36c197",
     "locked": true,
     "points": 5,
     "schema_version": 1,
     "solution": false
    }
   },
   "outputs": [],
   "source": [
    "assert_equal(flatten_list([[2,13,44], [6,7]]), [2, 6, 7, 13, 44])\n",
    "assert_equal(flatten_list([[2], [61,34,5,8,9]]), [2, 5, 8, 9, 34, 61])"
   ]
  },
  {
   "cell_type": "markdown",
   "metadata": {
    "deletable": false,
    "editable": false,
    "nbgrader": {
     "checksum": "3b78295c052e8819b4909126d625a2ec",
     "grade": false,
     "grade_id": "cell-7ef09448cebad723",
     "locked": true,
     "schema_version": 1,
     "solution": false
    }
   },
   "source": [
    "#### Question 9\n",
    "\n",
    "Complete the function to return the longest string in a line of text <br>\n",
    "Example: for text \"Hallo people of the world!\" should return \"people\" <br>\n",
    "If there is a tie, then it should return the 1st \"longest\" word encountered"
   ]
  },
  {
   "cell_type": "code",
   "execution_count": 114,
   "metadata": {
    "deletable": false,
    "nbgrader": {
     "checksum": "6c7f94aa743e0707e1001212c380bb63",
     "grade": false,
     "grade_id": "cell-8bb7222f98203461",
     "locked": false,
     "schema_version": 1,
     "solution": true
    }
   },
   "outputs": [],
   "source": [
    "def longest_word(text):\n",
    "    words = text.split()\n",
    "    largest = 0\n",
    "    for word in words:\n",
    "        current_len = len(word)\n",
    "        if (current_len > largest):\n",
    "            final_word = word\n",
    "            largest = current_len\n",
    "        else:\n",
    "            largest = largest\n",
    "    return final_word\n",
    "    raise NotImplementedError()"
   ]
  },
  {
   "cell_type": "code",
   "execution_count": 115,
   "metadata": {
    "deletable": false,
    "editable": false,
    "nbgrader": {
     "checksum": "3fa070b2593b4f82b6dcdd9fbf22c329",
     "grade": true,
     "grade_id": "cell-ab4e86977747d1d2",
     "locked": true,
     "points": 2,
     "schema_version": 1,
     "solution": false
    }
   },
   "outputs": [],
   "source": [
    "assert_equal(longest_word(\"Hello there people\"), 'people')\n",
    "assert_equal(longest_word(\"such a great day today \"), 'great')"
   ]
  },
  {
   "cell_type": "code",
   "execution_count": 116,
   "metadata": {
    "deletable": false,
    "editable": false,
    "nbgrader": {
     "checksum": "149fe69ab03cae26fca17c527477da37",
     "grade": true,
     "grade_id": "cell-130ea877bc75c47a",
     "locked": true,
     "points": 3,
     "schema_version": 1,
     "solution": false
    }
   },
   "outputs": [],
   "source": [
    "assert_equal(longest_word(\"toa maneno yako\"), 'maneno')"
   ]
  },
  {
   "cell_type": "markdown",
   "metadata": {
    "deletable": false,
    "editable": false,
    "nbgrader": {
     "checksum": "4070e6f527427af36f5d118344171e4c",
     "grade": false,
     "grade_id": "cell-bbf654cbef01e2e1",
     "locked": true,
     "schema_version": 1,
     "solution": false
    }
   },
   "source": [
    "#### Question 10\n",
    "\n",
    "Write a function that takes a list as input and returns a dictionary with the elements of the list as the keys and the frequency of the element as the values"
   ]
  },
  {
   "cell_type": "code",
   "execution_count": 119,
   "metadata": {
    "deletable": false,
    "nbgrader": {
     "checksum": "cab716bb1b8b04f2e6b311d8647180fe",
     "grade": false,
     "grade_id": "cell-762d60e0a18c5d08",
     "locked": false,
     "schema_version": 1,
     "solution": true
    }
   },
   "outputs": [],
   "source": [
    "def dictionarize(alist):\n",
    "    diction = {}\n",
    "    for x in alist:\n",
    "        i = alist.count(x)\n",
    "        if i > 0:\n",
    "            diction[x] = i\n",
    "    return diction\n",
    "    raise NotImplementedError()"
   ]
  },
  {
   "cell_type": "code",
   "execution_count": 120,
   "metadata": {
    "deletable": false,
    "editable": false,
    "nbgrader": {
     "checksum": "6e3ce0698c0ac72762b288a2f1aa9159",
     "grade": true,
     "grade_id": "cell-bfa722edbbb1ef66",
     "locked": true,
     "points": 3,
     "schema_version": 1,
     "solution": false
    }
   },
   "outputs": [],
   "source": [
    "assert_equal(dictionarize([1,2,2,3,4,5]),{1: 1, 2: 2, 3: 1, 4: 1, 5: 1})\n",
    "assert_equal(dictionarize(list('abccdeedeecca')), {'a': 2, 'b': 1, 'c': 4, 'd': 2, 'e': 4})"
   ]
  },
  {
   "cell_type": "code",
   "execution_count": 121,
   "metadata": {
    "deletable": false,
    "editable": false,
    "nbgrader": {
     "checksum": "4e78baa376cf21ed92afe71947a72186",
     "grade": true,
     "grade_id": "cell-a058708897a7ded4",
     "locked": true,
     "points": 5,
     "schema_version": 1,
     "solution": false
    }
   },
   "outputs": [],
   "source": [
    "assert_equal(dictionarize([1,'a','h',5]),{1: 1, 'h': 1, 5: 1, 'a': 1})"
   ]
  },
  {
   "cell_type": "code",
   "execution_count": null,
   "metadata": {},
   "outputs": [],
   "source": []
  }
 ],
 "metadata": {
  "kernelspec": {
   "display_name": "Python 2",
   "language": "python",
   "name": "python2"
  },
  "language_info": {
   "codemirror_mode": {
    "name": "ipython",
    "version": 2
   },
   "file_extension": ".py",
   "mimetype": "text/x-python",
   "name": "python",
   "nbconvert_exporter": "python",
   "pygments_lexer": "ipython2",
   "version": "2.7.14"
  }
 },
 "nbformat": 4,
 "nbformat_minor": 2
}
